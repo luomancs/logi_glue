{
 "cells": [
  {
   "cell_type": "code",
   "execution_count": 16,
   "metadata": {},
   "outputs": [
    {
     "name": "stderr",
     "output_type": "stream",
     "text": [
      "Downloading data files: 100%|██████████| 2/2 [00:00<00:00, 6369.48it/s]\n",
      "Extracting data files: 100%|██████████| 2/2 [00:00<00:00, 816.97it/s]\n"
     ]
    },
    {
     "name": "stdout",
     "output_type": "stream",
     "text": [
      "downloaded_files['test']: /Users/mluo26/.cache/huggingface/datasets/downloads/7f9b4ad374f684a44d311fe951d867ea6e062c5162eab6e6bf7be50f0bf50a9d\n",
      "downloaded_files['train']: /Users/mluo26/.cache/huggingface/datasets/downloads/be33cae6928315e1d7ca2650cc98fcec81c47f652328ed4b8254f4a5369eb0d0\n"
     ]
    },
    {
     "name": "stderr",
     "output_type": "stream",
     "text": [
      "Generating train split: 0 examples [00:00, ? examples/s]"
     ]
    },
    {
     "name": "stdout",
     "output_type": "stream",
     "text": [
      "data_file /Users/mluo26/.cache/huggingface/datasets/downloads/be33cae6928315e1d7ca2650cc98fcec81c47f652328ed4b8254f4a5369eb0d0\n",
      "split train\n"
     ]
    },
    {
     "name": "stderr",
     "output_type": "stream",
     "text": [
      "\n"
     ]
    },
    {
     "ename": "DatasetGenerationError",
     "evalue": "An error occurred while generating the dataset",
     "output_type": "error",
     "traceback": [
      "\u001b[0;31m---------------------------------------------------------------------------\u001b[0m",
      "\u001b[0;31mTypeError\u001b[0m                                 Traceback (most recent call last)",
      "File \u001b[0;32m~/miniconda/lib/python3.8/site-packages/datasets/builder.py:1676\u001b[0m, in \u001b[0;36mGeneratorBasedBuilder._prepare_split_single\u001b[0;34m(self, gen_kwargs, fpath, file_format, max_shard_size, split_info, check_duplicate_keys, job_id)\u001b[0m\n\u001b[1;32m   <a href='file:///Users/mluo26/miniconda/lib/python3.8/site-packages/datasets/builder.py?line=1674'>1675</a>\u001b[0m _time \u001b[39m=\u001b[39m time\u001b[39m.\u001b[39mtime()\n\u001b[0;32m-> <a href='file:///Users/mluo26/miniconda/lib/python3.8/site-packages/datasets/builder.py?line=1675'>1676</a>\u001b[0m \u001b[39mfor\u001b[39;00m key, record \u001b[39min\u001b[39;00m generator:\n\u001b[1;32m   <a href='file:///Users/mluo26/miniconda/lib/python3.8/site-packages/datasets/builder.py?line=1676'>1677</a>\u001b[0m     \u001b[39mif\u001b[39;00m max_shard_size \u001b[39mis\u001b[39;00m \u001b[39mnot\u001b[39;00m \u001b[39mNone\u001b[39;00m \u001b[39mand\u001b[39;00m writer\u001b[39m.\u001b[39m_num_bytes \u001b[39m>\u001b[39m max_shard_size:\n",
      "File \u001b[0;32m~/.cache/huggingface/modules/datasets_modules/datasets/logi_glue/b76299af1cd6e7b54c46198bb5c962504243b702b96acd740976ca631f689dee/logi_glue.py:166\u001b[0m, in \u001b[0;36mLogiGlue._generate_examples\u001b[0;34m(self, data_file, split)\u001b[0m\n\u001b[1;32m    <a href='file:///Users/mluo26/.cache/huggingface/modules/datasets_modules/datasets/logi_glue/b76299af1cd6e7b54c46198bb5c962504243b702b96acd740976ca631f689dee/logi_glue.py?line=164'>165</a>\u001b[0m \u001b[39mprint\u001b[39m(\u001b[39m\"\u001b[39m\u001b[39msplit\u001b[39m\u001b[39m\"\u001b[39m, split)\n\u001b[0;32m--> <a href='file:///Users/mluo26/.cache/huggingface/modules/datasets_modules/datasets/logi_glue/b76299af1cd6e7b54c46198bb5c962504243b702b96acd740976ca631f689dee/logi_glue.py?line=165'>166</a>\u001b[0m \u001b[39mprint\u001b[39m(data_file[split])\n\u001b[1;32m    <a href='file:///Users/mluo26/.cache/huggingface/modules/datasets_modules/datasets/logi_glue/b76299af1cd6e7b54c46198bb5c962504243b702b96acd740976ca631f689dee/logi_glue.py?line=166'>167</a>\u001b[0m \u001b[39mprint\u001b[39m(\u001b[39m\"\u001b[39m\u001b[39m=\u001b[39m\u001b[39m\"\u001b[39m\u001b[39m*\u001b[39m\u001b[39m100\u001b[39m)\n",
      "\u001b[0;31mTypeError\u001b[0m: string indices must be integers",
      "\nThe above exception was the direct cause of the following exception:\n",
      "\u001b[0;31mDatasetGenerationError\u001b[0m                    Traceback (most recent call last)",
      "Cell \u001b[0;32mIn[16], line 2\u001b[0m\n\u001b[1;32m      1\u001b[0m \u001b[38;5;28;01mfrom\u001b[39;00m \u001b[38;5;21;01mdatasets\u001b[39;00m \u001b[38;5;28;01mimport\u001b[39;00m load_dataset\n\u001b[0;32m----> 2\u001b[0m dataset \u001b[38;5;241m=\u001b[39m \u001b[43mload_dataset\u001b[49m\u001b[43m(\u001b[49m\u001b[38;5;124;43m'\u001b[39;49m\u001b[38;5;124;43mlogi_glue\u001b[39;49m\u001b[38;5;124;43m'\u001b[39;49m\u001b[43m,\u001b[49m\u001b[43m \u001b[49m\u001b[38;5;124;43m'\u001b[39;49m\u001b[38;5;124;43mlogiqa\u001b[39;49m\u001b[38;5;124;43m'\u001b[39;49m\u001b[43m)\u001b[49m\n",
      "File \u001b[0;32m~/miniconda/lib/python3.8/site-packages/datasets/load.py:2153\u001b[0m, in \u001b[0;36mload_dataset\u001b[0;34m(path, name, data_dir, data_files, split, cache_dir, features, download_config, download_mode, verification_mode, ignore_verifications, keep_in_memory, save_infos, revision, token, use_auth_token, task, streaming, num_proc, storage_options, **config_kwargs)\u001b[0m\n\u001b[1;32m   <a href='file:///Users/mluo26/miniconda/lib/python3.8/site-packages/datasets/load.py?line=2149'>2150</a>\u001b[0m try_from_hf_gcs \u001b[39m=\u001b[39m path \u001b[39mnot\u001b[39;00m \u001b[39min\u001b[39;00m _PACKAGED_DATASETS_MODULES\n\u001b[1;32m   <a href='file:///Users/mluo26/miniconda/lib/python3.8/site-packages/datasets/load.py?line=2151'>2152</a>\u001b[0m \u001b[39m# Download and prepare data\u001b[39;00m\n\u001b[0;32m-> <a href='file:///Users/mluo26/miniconda/lib/python3.8/site-packages/datasets/load.py?line=2152'>2153</a>\u001b[0m builder_instance\u001b[39m.\u001b[39;49mdownload_and_prepare(\n\u001b[1;32m   <a href='file:///Users/mluo26/miniconda/lib/python3.8/site-packages/datasets/load.py?line=2153'>2154</a>\u001b[0m     download_config\u001b[39m=\u001b[39;49mdownload_config,\n\u001b[1;32m   <a href='file:///Users/mluo26/miniconda/lib/python3.8/site-packages/datasets/load.py?line=2154'>2155</a>\u001b[0m     download_mode\u001b[39m=\u001b[39;49mdownload_mode,\n\u001b[1;32m   <a href='file:///Users/mluo26/miniconda/lib/python3.8/site-packages/datasets/load.py?line=2155'>2156</a>\u001b[0m     verification_mode\u001b[39m=\u001b[39;49mverification_mode,\n\u001b[1;32m   <a href='file:///Users/mluo26/miniconda/lib/python3.8/site-packages/datasets/load.py?line=2156'>2157</a>\u001b[0m     try_from_hf_gcs\u001b[39m=\u001b[39;49mtry_from_hf_gcs,\n\u001b[1;32m   <a href='file:///Users/mluo26/miniconda/lib/python3.8/site-packages/datasets/load.py?line=2157'>2158</a>\u001b[0m     num_proc\u001b[39m=\u001b[39;49mnum_proc,\n\u001b[1;32m   <a href='file:///Users/mluo26/miniconda/lib/python3.8/site-packages/datasets/load.py?line=2158'>2159</a>\u001b[0m     storage_options\u001b[39m=\u001b[39;49mstorage_options,\n\u001b[1;32m   <a href='file:///Users/mluo26/miniconda/lib/python3.8/site-packages/datasets/load.py?line=2159'>2160</a>\u001b[0m )\n\u001b[1;32m   <a href='file:///Users/mluo26/miniconda/lib/python3.8/site-packages/datasets/load.py?line=2161'>2162</a>\u001b[0m \u001b[39m# Build dataset for splits\u001b[39;00m\n\u001b[1;32m   <a href='file:///Users/mluo26/miniconda/lib/python3.8/site-packages/datasets/load.py?line=2162'>2163</a>\u001b[0m keep_in_memory \u001b[39m=\u001b[39m (\n\u001b[1;32m   <a href='file:///Users/mluo26/miniconda/lib/python3.8/site-packages/datasets/load.py?line=2163'>2164</a>\u001b[0m     keep_in_memory \u001b[39mif\u001b[39;00m keep_in_memory \u001b[39mis\u001b[39;00m \u001b[39mnot\u001b[39;00m \u001b[39mNone\u001b[39;00m \u001b[39melse\u001b[39;00m is_small_dataset(builder_instance\u001b[39m.\u001b[39minfo\u001b[39m.\u001b[39mdataset_size)\n\u001b[1;32m   <a href='file:///Users/mluo26/miniconda/lib/python3.8/site-packages/datasets/load.py?line=2164'>2165</a>\u001b[0m )\n",
      "File \u001b[0;32m~/miniconda/lib/python3.8/site-packages/datasets/builder.py:954\u001b[0m, in \u001b[0;36mDatasetBuilder.download_and_prepare\u001b[0;34m(self, output_dir, download_config, download_mode, verification_mode, ignore_verifications, try_from_hf_gcs, dl_manager, base_path, use_auth_token, file_format, max_shard_size, num_proc, storage_options, **download_and_prepare_kwargs)\u001b[0m\n\u001b[1;32m    <a href='file:///Users/mluo26/miniconda/lib/python3.8/site-packages/datasets/builder.py?line=951'>952</a>\u001b[0m     \u001b[39mif\u001b[39;00m num_proc \u001b[39mis\u001b[39;00m \u001b[39mnot\u001b[39;00m \u001b[39mNone\u001b[39;00m:\n\u001b[1;32m    <a href='file:///Users/mluo26/miniconda/lib/python3.8/site-packages/datasets/builder.py?line=952'>953</a>\u001b[0m         prepare_split_kwargs[\u001b[39m\"\u001b[39m\u001b[39mnum_proc\u001b[39m\u001b[39m\"\u001b[39m] \u001b[39m=\u001b[39m num_proc\n\u001b[0;32m--> <a href='file:///Users/mluo26/miniconda/lib/python3.8/site-packages/datasets/builder.py?line=953'>954</a>\u001b[0m     \u001b[39mself\u001b[39;49m\u001b[39m.\u001b[39;49m_download_and_prepare(\n\u001b[1;32m    <a href='file:///Users/mluo26/miniconda/lib/python3.8/site-packages/datasets/builder.py?line=954'>955</a>\u001b[0m         dl_manager\u001b[39m=\u001b[39;49mdl_manager,\n\u001b[1;32m    <a href='file:///Users/mluo26/miniconda/lib/python3.8/site-packages/datasets/builder.py?line=955'>956</a>\u001b[0m         verification_mode\u001b[39m=\u001b[39;49mverification_mode,\n\u001b[1;32m    <a href='file:///Users/mluo26/miniconda/lib/python3.8/site-packages/datasets/builder.py?line=956'>957</a>\u001b[0m         \u001b[39m*\u001b[39;49m\u001b[39m*\u001b[39;49mprepare_split_kwargs,\n\u001b[1;32m    <a href='file:///Users/mluo26/miniconda/lib/python3.8/site-packages/datasets/builder.py?line=957'>958</a>\u001b[0m         \u001b[39m*\u001b[39;49m\u001b[39m*\u001b[39;49mdownload_and_prepare_kwargs,\n\u001b[1;32m    <a href='file:///Users/mluo26/miniconda/lib/python3.8/site-packages/datasets/builder.py?line=958'>959</a>\u001b[0m     )\n\u001b[1;32m    <a href='file:///Users/mluo26/miniconda/lib/python3.8/site-packages/datasets/builder.py?line=959'>960</a>\u001b[0m \u001b[39m# Sync info\u001b[39;00m\n\u001b[1;32m    <a href='file:///Users/mluo26/miniconda/lib/python3.8/site-packages/datasets/builder.py?line=960'>961</a>\u001b[0m \u001b[39mself\u001b[39m\u001b[39m.\u001b[39minfo\u001b[39m.\u001b[39mdataset_size \u001b[39m=\u001b[39m \u001b[39msum\u001b[39m(split\u001b[39m.\u001b[39mnum_bytes \u001b[39mfor\u001b[39;00m split \u001b[39min\u001b[39;00m \u001b[39mself\u001b[39m\u001b[39m.\u001b[39minfo\u001b[39m.\u001b[39msplits\u001b[39m.\u001b[39mvalues())\n",
      "File \u001b[0;32m~/miniconda/lib/python3.8/site-packages/datasets/builder.py:1717\u001b[0m, in \u001b[0;36mGeneratorBasedBuilder._download_and_prepare\u001b[0;34m(self, dl_manager, verification_mode, **prepare_splits_kwargs)\u001b[0m\n\u001b[1;32m   <a href='file:///Users/mluo26/miniconda/lib/python3.8/site-packages/datasets/builder.py?line=1715'>1716</a>\u001b[0m \u001b[39mdef\u001b[39;00m \u001b[39m_download_and_prepare\u001b[39m(\u001b[39mself\u001b[39m, dl_manager, verification_mode, \u001b[39m*\u001b[39m\u001b[39m*\u001b[39mprepare_splits_kwargs):\n\u001b[0;32m-> <a href='file:///Users/mluo26/miniconda/lib/python3.8/site-packages/datasets/builder.py?line=1716'>1717</a>\u001b[0m     \u001b[39msuper\u001b[39;49m()\u001b[39m.\u001b[39;49m_download_and_prepare(\n\u001b[1;32m   <a href='file:///Users/mluo26/miniconda/lib/python3.8/site-packages/datasets/builder.py?line=1717'>1718</a>\u001b[0m         dl_manager,\n\u001b[1;32m   <a href='file:///Users/mluo26/miniconda/lib/python3.8/site-packages/datasets/builder.py?line=1718'>1719</a>\u001b[0m         verification_mode,\n\u001b[1;32m   <a href='file:///Users/mluo26/miniconda/lib/python3.8/site-packages/datasets/builder.py?line=1719'>1720</a>\u001b[0m         check_duplicate_keys\u001b[39m=\u001b[39;49mverification_mode \u001b[39m==\u001b[39;49m VerificationMode\u001b[39m.\u001b[39;49mBASIC_CHECKS\n\u001b[1;32m   <a href='file:///Users/mluo26/miniconda/lib/python3.8/site-packages/datasets/builder.py?line=1720'>1721</a>\u001b[0m         \u001b[39mor\u001b[39;49;00m verification_mode \u001b[39m==\u001b[39;49m VerificationMode\u001b[39m.\u001b[39;49mALL_CHECKS,\n\u001b[1;32m   <a href='file:///Users/mluo26/miniconda/lib/python3.8/site-packages/datasets/builder.py?line=1721'>1722</a>\u001b[0m         \u001b[39m*\u001b[39;49m\u001b[39m*\u001b[39;49mprepare_splits_kwargs,\n\u001b[1;32m   <a href='file:///Users/mluo26/miniconda/lib/python3.8/site-packages/datasets/builder.py?line=1722'>1723</a>\u001b[0m     )\n",
      "File \u001b[0;32m~/miniconda/lib/python3.8/site-packages/datasets/builder.py:1049\u001b[0m, in \u001b[0;36mDatasetBuilder._download_and_prepare\u001b[0;34m(self, dl_manager, verification_mode, **prepare_split_kwargs)\u001b[0m\n\u001b[1;32m   <a href='file:///Users/mluo26/miniconda/lib/python3.8/site-packages/datasets/builder.py?line=1044'>1045</a>\u001b[0m split_dict\u001b[39m.\u001b[39madd(split_generator\u001b[39m.\u001b[39msplit_info)\n\u001b[1;32m   <a href='file:///Users/mluo26/miniconda/lib/python3.8/site-packages/datasets/builder.py?line=1046'>1047</a>\u001b[0m \u001b[39mtry\u001b[39;00m:\n\u001b[1;32m   <a href='file:///Users/mluo26/miniconda/lib/python3.8/site-packages/datasets/builder.py?line=1047'>1048</a>\u001b[0m     \u001b[39m# Prepare split will record examples associated to the split\u001b[39;00m\n\u001b[0;32m-> <a href='file:///Users/mluo26/miniconda/lib/python3.8/site-packages/datasets/builder.py?line=1048'>1049</a>\u001b[0m     \u001b[39mself\u001b[39;49m\u001b[39m.\u001b[39;49m_prepare_split(split_generator, \u001b[39m*\u001b[39;49m\u001b[39m*\u001b[39;49mprepare_split_kwargs)\n\u001b[1;32m   <a href='file:///Users/mluo26/miniconda/lib/python3.8/site-packages/datasets/builder.py?line=1049'>1050</a>\u001b[0m \u001b[39mexcept\u001b[39;00m \u001b[39mOSError\u001b[39;00m \u001b[39mas\u001b[39;00m e:\n\u001b[1;32m   <a href='file:///Users/mluo26/miniconda/lib/python3.8/site-packages/datasets/builder.py?line=1050'>1051</a>\u001b[0m     \u001b[39mraise\u001b[39;00m \u001b[39mOSError\u001b[39;00m(\n\u001b[1;32m   <a href='file:///Users/mluo26/miniconda/lib/python3.8/site-packages/datasets/builder.py?line=1051'>1052</a>\u001b[0m         \u001b[39m\"\u001b[39m\u001b[39mCannot find data file. \u001b[39m\u001b[39m\"\u001b[39m\n\u001b[1;32m   <a href='file:///Users/mluo26/miniconda/lib/python3.8/site-packages/datasets/builder.py?line=1052'>1053</a>\u001b[0m         \u001b[39m+\u001b[39m (\u001b[39mself\u001b[39m\u001b[39m.\u001b[39mmanual_download_instructions \u001b[39mor\u001b[39;00m \u001b[39m\"\u001b[39m\u001b[39m\"\u001b[39m)\n\u001b[1;32m   <a href='file:///Users/mluo26/miniconda/lib/python3.8/site-packages/datasets/builder.py?line=1053'>1054</a>\u001b[0m         \u001b[39m+\u001b[39m \u001b[39m\"\u001b[39m\u001b[39m\\n\u001b[39;00m\u001b[39mOriginal error:\u001b[39m\u001b[39m\\n\u001b[39;00m\u001b[39m\"\u001b[39m\n\u001b[1;32m   <a href='file:///Users/mluo26/miniconda/lib/python3.8/site-packages/datasets/builder.py?line=1054'>1055</a>\u001b[0m         \u001b[39m+\u001b[39m \u001b[39mstr\u001b[39m(e)\n\u001b[1;32m   <a href='file:///Users/mluo26/miniconda/lib/python3.8/site-packages/datasets/builder.py?line=1055'>1056</a>\u001b[0m     ) \u001b[39mfrom\u001b[39;00m \u001b[39mNone\u001b[39m\n",
      "File \u001b[0;32m~/miniconda/lib/python3.8/site-packages/datasets/builder.py:1555\u001b[0m, in \u001b[0;36mGeneratorBasedBuilder._prepare_split\u001b[0;34m(self, split_generator, check_duplicate_keys, file_format, num_proc, max_shard_size)\u001b[0m\n\u001b[1;32m   <a href='file:///Users/mluo26/miniconda/lib/python3.8/site-packages/datasets/builder.py?line=1552'>1553</a>\u001b[0m job_id \u001b[39m=\u001b[39m \u001b[39m0\u001b[39m\n\u001b[1;32m   <a href='file:///Users/mluo26/miniconda/lib/python3.8/site-packages/datasets/builder.py?line=1553'>1554</a>\u001b[0m \u001b[39mwith\u001b[39;00m pbar:\n\u001b[0;32m-> <a href='file:///Users/mluo26/miniconda/lib/python3.8/site-packages/datasets/builder.py?line=1554'>1555</a>\u001b[0m     \u001b[39mfor\u001b[39;00m job_id, done, content \u001b[39min\u001b[39;00m \u001b[39mself\u001b[39m\u001b[39m.\u001b[39m_prepare_split_single(\n\u001b[1;32m   <a href='file:///Users/mluo26/miniconda/lib/python3.8/site-packages/datasets/builder.py?line=1555'>1556</a>\u001b[0m         gen_kwargs\u001b[39m=\u001b[39mgen_kwargs, job_id\u001b[39m=\u001b[39mjob_id, \u001b[39m*\u001b[39m\u001b[39m*\u001b[39m_prepare_split_args\n\u001b[1;32m   <a href='file:///Users/mluo26/miniconda/lib/python3.8/site-packages/datasets/builder.py?line=1556'>1557</a>\u001b[0m     ):\n\u001b[1;32m   <a href='file:///Users/mluo26/miniconda/lib/python3.8/site-packages/datasets/builder.py?line=1557'>1558</a>\u001b[0m         \u001b[39mif\u001b[39;00m done:\n\u001b[1;32m   <a href='file:///Users/mluo26/miniconda/lib/python3.8/site-packages/datasets/builder.py?line=1558'>1559</a>\u001b[0m             result \u001b[39m=\u001b[39m content\n",
      "File \u001b[0;32m~/miniconda/lib/python3.8/site-packages/datasets/builder.py:1712\u001b[0m, in \u001b[0;36mGeneratorBasedBuilder._prepare_split_single\u001b[0;34m(self, gen_kwargs, fpath, file_format, max_shard_size, split_info, check_duplicate_keys, job_id)\u001b[0m\n\u001b[1;32m   <a href='file:///Users/mluo26/miniconda/lib/python3.8/site-packages/datasets/builder.py?line=1709'>1710</a>\u001b[0m     \u001b[39mif\u001b[39;00m \u001b[39misinstance\u001b[39m(e, SchemaInferenceError) \u001b[39mand\u001b[39;00m e\u001b[39m.\u001b[39m__context__ \u001b[39mis\u001b[39;00m \u001b[39mnot\u001b[39;00m \u001b[39mNone\u001b[39;00m:\n\u001b[1;32m   <a href='file:///Users/mluo26/miniconda/lib/python3.8/site-packages/datasets/builder.py?line=1710'>1711</a>\u001b[0m         e \u001b[39m=\u001b[39m e\u001b[39m.\u001b[39m__context__\n\u001b[0;32m-> <a href='file:///Users/mluo26/miniconda/lib/python3.8/site-packages/datasets/builder.py?line=1711'>1712</a>\u001b[0m     \u001b[39mraise\u001b[39;00m DatasetGenerationError(\u001b[39m\"\u001b[39m\u001b[39mAn error occurred while generating the dataset\u001b[39m\u001b[39m\"\u001b[39m) \u001b[39mfrom\u001b[39;00m \u001b[39me\u001b[39;00m\n\u001b[1;32m   <a href='file:///Users/mluo26/miniconda/lib/python3.8/site-packages/datasets/builder.py?line=1713'>1714</a>\u001b[0m \u001b[39myield\u001b[39;00m job_id, \u001b[39mTrue\u001b[39;00m, (total_num_examples, total_num_bytes, writer\u001b[39m.\u001b[39m_features, num_shards, shard_lengths)\n",
      "\u001b[0;31mDatasetGenerationError\u001b[0m: An error occurred while generating the dataset"
     ]
    }
   ],
   "source": [
    "from datasets import load_dataset\n",
    "dataset = load_dataset('logi_glue', 'logiqa')"
   ]
  },
  {
   "cell_type": "code",
   "execution_count": 22,
   "metadata": {},
   "outputs": [
    {
     "name": "stdout",
     "output_type": "stream",
     "text": [
      "2\n"
     ]
    }
   ],
   "source": [
    "import json\n",
    "data_file = \"/Users/mluo26/.cache/huggingface/datasets/downloads/be33cae6928315e1d7ca2650cc98fcec81c47f652328ed4b8254f4a5369eb0d0\"\n",
    "with open(data_file) as f:\n",
    "    data = json.load(f)\n",
    "print(len(data))"
   ]
  },
  {
   "cell_type": "code",
   "execution_count": 21,
   "metadata": {},
   "outputs": [
    {
     "data": {
      "text/plain": [
       "{'payload': {'allShortcutsEnabled': False,\n",
       "  'fileTree': {'datasets/logiqa': {'items': [{'name': 'test.json',\n",
       "      'path': 'datasets/logiqa/test.json',\n",
       "      'contentType': 'file'},\n",
       "     {'name': 'test.txt',\n",
       "      'path': 'datasets/logiqa/test.txt',\n",
       "      'contentType': 'file'},\n",
       "     {'name': 'train.json',\n",
       "      'path': 'datasets/logiqa/train.json',\n",
       "      'contentType': 'file'}],\n",
       "    'totalCount': 3},\n",
       "   'datasets': {'items': [{'name': 'logiqa',\n",
       "      'path': 'datasets/logiqa',\n",
       "      'contentType': 'directory'},\n",
       "     {'name': 'test.txt', 'path': 'datasets/test.txt', 'contentType': 'file'}],\n",
       "    'totalCount': 2},\n",
       "   '': {'items': [{'name': 'datasets',\n",
       "      'path': 'datasets',\n",
       "      'contentType': 'directory'}],\n",
       "    'totalCount': 1}},\n",
       "  'fileTreeProcessingTime': 4.376657,\n",
       "  'foldersToFetch': [],\n",
       "  'reducedMotionEnabled': None,\n",
       "  'repo': {'id': 700980996,\n",
       "   'defaultBranch': 'main',\n",
       "   'name': 'logi_glue',\n",
       "   'ownerLogin': 'luomancs',\n",
       "   'currentUserCanPush': False,\n",
       "   'isFork': False,\n",
       "   'isEmpty': False,\n",
       "   'createdAt': '2023-10-05T17:05:55.000Z',\n",
       "   'ownerAvatar': 'https://avatars.githubusercontent.com/u/34146251?v=4',\n",
       "   'public': True,\n",
       "   'private': False,\n",
       "   'isOrgOwned': False},\n",
       "  'symbolsExpanded': False,\n",
       "  'treeExpanded': True,\n",
       "  'refInfo': {'name': 'main',\n",
       "   'listCacheKey': 'v0:1696525796.0',\n",
       "   'canEdit': False,\n",
       "   'refType': 'branch',\n",
       "   'currentOid': 'd939ad79a94a059b50486ba63e08f354cf6f114a'},\n",
       "  'path': 'datasets/logiqa/train.json',\n",
       "  'currentUser': None,\n",
       "  'blob': {'rawLines': [],\n",
       "   'stylingDirectives': [],\n",
       "   'csv': None,\n",
       "   'csvError': None,\n",
       "   'dependabotInfo': {'showConfigurationBanner': False,\n",
       "    'configFilePath': None,\n",
       "    'networkDependabotPath': '/luomancs/logi_glue/network/updates',\n",
       "    'dismissConfigurationNoticePath': '/settings/dismiss-notice/dependabot_configuration_notice',\n",
       "    'configurationNoticeDismissed': None,\n",
       "    'repoAlertsPath': '/luomancs/logi_glue/security/dependabot',\n",
       "    'repoSecurityAndAnalysisPath': '/luomancs/logi_glue/settings/security_analysis',\n",
       "    'repoOwnerIsOrg': False,\n",
       "    'currentUserCanAdminRepo': False},\n",
       "   'displayName': 'train.json',\n",
       "   'displayUrl': 'https://github.com/luomancs/logi_glue/blob/main/datasets/logiqa/train.json?raw=true',\n",
       "   'headerInfo': {'blobSize': '14.5 MB',\n",
       "    'deleteInfo': {'deleteTooltip': 'You must be signed in to make or propose changes'},\n",
       "    'editInfo': {'editTooltip': 'You must be signed in to make or propose changes'},\n",
       "    'ghDesktopPath': 'https://desktop.github.com',\n",
       "    'gitLfsPath': None,\n",
       "    'onBranch': True,\n",
       "    'shortPath': '9783ebb',\n",
       "    'siteNavLoginPath': '/login?return_to=https%3A%2F%2Fgithub.com%2Fluomancs%2Flogi_glue%2Fblob%2Fmain%2Fdatasets%2Flogiqa%2Ftrain.json',\n",
       "    'isCSV': False,\n",
       "    'isRichtext': False,\n",
       "    'toc': None,\n",
       "    'lineInfo': {'truncatedLoc': None, 'truncatedSloc': None},\n",
       "    'mode': 'file'},\n",
       "   'image': False,\n",
       "   'isCodeownersFile': None,\n",
       "   'isPlain': False,\n",
       "   'isValidLegacyIssueTemplate': False,\n",
       "   'issueTemplateHelpUrl': 'https://docs.github.com/articles/about-issue-and-pull-request-templates',\n",
       "   'issueTemplate': None,\n",
       "   'discussionTemplate': None,\n",
       "   'language': None,\n",
       "   'languageID': None,\n",
       "   'large': True,\n",
       "   'loggedIn': False,\n",
       "   'newDiscussionPath': '/luomancs/logi_glue/discussions/new',\n",
       "   'newIssuePath': '/luomancs/logi_glue/issues/new',\n",
       "   'planSupportInfo': {'repoIsFork': None,\n",
       "    'repoOwnedByCurrentUser': None,\n",
       "    'requestFullPath': '/luomancs/logi_glue/blob/main/datasets/logiqa/train.json',\n",
       "    'showFreeOrgGatedFeatureMessage': None,\n",
       "    'showPlanSupportBanner': None,\n",
       "    'upgradeDataAttributes': None,\n",
       "    'upgradePath': None},\n",
       "   'publishBannersInfo': {'dismissActionNoticePath': '/settings/dismiss-notice/publish_action_from_dockerfile',\n",
       "    'dismissStackNoticePath': '/settings/dismiss-notice/publish_stack_from_file',\n",
       "    'releasePath': '/luomancs/logi_glue/releases/new?marketplace=true',\n",
       "    'showPublishActionBanner': False,\n",
       "    'showPublishStackBanner': False},\n",
       "   'renderImageOrRaw': True,\n",
       "   'richText': None,\n",
       "   'renderedFileInfo': None,\n",
       "   'shortPath': None,\n",
       "   'tabSize': 8,\n",
       "   'topBannersInfo': {'overridingGlobalFundingFile': False,\n",
       "    'globalPreferredFundingPath': None,\n",
       "    'repoOwner': 'luomancs',\n",
       "    'repoName': 'logi_glue',\n",
       "    'showInvalidCitationWarning': False,\n",
       "    'citationHelpUrl': 'https://docs.github.com/en/github/creating-cloning-and-archiving-repositories/creating-a-repository-on-github/about-citation-files',\n",
       "    'showDependabotConfigurationBanner': False,\n",
       "    'actionsOnboardingTip': None},\n",
       "   'truncated': True,\n",
       "   'viewable': False,\n",
       "   'workflowRedirectUrl': None,\n",
       "   'symbols': {'timedOut': True,\n",
       "    'notAnalyzed': True,\n",
       "    'symbols': [],\n",
       "    'error': {'code': 'invalid_argument',\n",
       "     'msg': 'content required',\n",
       "     'meta': {}}}},\n",
       "  'copilotInfo': None,\n",
       "  'csrf_tokens': {'/luomancs/logi_glue/branches': {'post': 'SLyEjJ3WHqxftdq_9eIgA633kNaiqSgmGX6kUaue19acp2nJ22ZDCRiJmY7V9p1hlWhx3jvZAJkkKthFjLPYyA'},\n",
       "   '/repos/preferences': {'post': '5JO3dneV562gxS2yqXdZmV2k8EiAB3BTLf8l0x7ouG6bXnku_1zEVa92P5zS8Lp3w5TgPRqQvmM5yb3RVI1VmA'}}},\n",
       " 'title': 'logi_glue/datasets/logiqa/train.json at main · luomancs/logi_glue'}"
      ]
     },
     "execution_count": 21,
     "metadata": {},
     "output_type": "execute_result"
    }
   ],
   "source": [
    "data"
   ]
  },
  {
   "cell_type": "code",
   "execution_count": null,
   "metadata": {},
   "outputs": [],
   "source": []
  }
 ],
 "metadata": {
  "interpreter": {
   "hash": "c7f56e471114a905e5cf1c7554902e0595ccc70a947cea50eac265df53484738"
  },
  "kernelspec": {
   "display_name": "Python 3.8.16 ('base')",
   "language": "python",
   "name": "python3"
  },
  "language_info": {
   "codemirror_mode": {
    "name": "ipython",
    "version": 3
   },
   "file_extension": ".py",
   "mimetype": "text/x-python",
   "name": "python",
   "nbconvert_exporter": "python",
   "pygments_lexer": "ipython3",
   "version": "3.8.16"
  },
  "orig_nbformat": 4
 },
 "nbformat": 4,
 "nbformat_minor": 2
}
